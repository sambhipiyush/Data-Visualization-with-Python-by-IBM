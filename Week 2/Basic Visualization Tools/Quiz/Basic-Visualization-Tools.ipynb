{
 "cells": [
  {
   "cell_type": "markdown",
   "metadata": {},
   "source": [
    "#### 1. Area plots are stacked by default."
   ]
  },
  {
   "cell_type": "markdown",
   "metadata": {},
   "source": [
    "##### Ans: True."
   ]
  },
  {
   "cell_type": "markdown",
   "metadata": {},
   "source": [
    "#### 2. The following code uses the artist layer to create a stacked area plot of the data in the pandas dataframe, area_df."
   ]
  },
  {
   "cell_type": "raw",
   "metadata": {},
   "source": [
    "ax = series_df.plot(kind='area', figsize=(20, 10))\n",
    "\n",
    "ax.title('Plot Title')\n",
    "ax.ylabel('Vertical Axis Label')\n",
    "ax.xlabel('Horizontal Axis Label')"
   ]
  },
  {
   "cell_type": "markdown",
   "metadata": {},
   "source": [
    "#### Ans: False."
   ]
  },
  {
   "cell_type": "markdown",
   "metadata": {},
   "source": [
    "#### 3. The following code will create an unstacked area plot of the data in the pandas dataframe, area_df, with a transparency value of 0.35?"
   ]
  },
  {
   "cell_type": "raw",
   "metadata": {},
   "source": [
    "import matplotlib.pyplot as plt\n",
    "\n",
    "transparency = 0.35 \n",
    "area_df.plot(kind='area', alpha=transparency, figsize=(20, 10))\n",
    "\n",
    "plt.title('Plot Title')\n",
    "plt.ylabel('Vertical Axis Label')\n",
    "plt.xlabel('Horizontal Axis Label')\n",
    "\n",
    "plt.show()"
   ]
  },
  {
   "cell_type": "markdown",
   "metadata": {},
   "source": [
    "##### Ans: False"
   ]
  },
  {
   "cell_type": "markdown",
   "metadata": {},
   "source": [
    "#### 4. The following code will create a histogram of a pandas series, series_data, and align the bin edges with the horizontal tick marks."
   ]
  },
  {
   "cell_type": "raw",
   "metadata": {},
   "source": [
    "count, bin_edges = np.histogram(series_data)\n",
    "series_data.plot(kind='hist', xticks = bin_edges)"
   ]
  },
  {
   "cell_type": "markdown",
   "metadata": {},
   "source": [
    "##### Ans: True."
   ]
  },
  {
   "cell_type": "markdown",
   "metadata": {},
   "source": [
    "#### 5. question.plot(type='bar', rot=90)"
   ]
  },
  {
   "cell_type": "markdown",
   "metadata": {},
   "source": [
    "##### Ans: False."
   ]
  }
 ],
 "metadata": {
  "kernelspec": {
   "display_name": "Python 3",
   "language": "python",
   "name": "python3"
  },
  "language_info": {
   "codemirror_mode": {
    "name": "ipython",
    "version": 3
   },
   "file_extension": ".py",
   "mimetype": "text/x-python",
   "name": "python",
   "nbconvert_exporter": "python",
   "pygments_lexer": "ipython3",
   "version": "3.7.0"
  }
 },
 "nbformat": 4,
 "nbformat_minor": 2
}
